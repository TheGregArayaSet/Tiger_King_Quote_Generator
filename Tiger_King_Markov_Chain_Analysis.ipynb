{
 "cells": [
  {
   "cell_type": "markdown",
   "metadata": {},
   "source": [
    "# The Tiger King Quote Generator for All You Cool Cats and Kittens\n",
    "#### By: Greg Araya\n",
    "\n",
    "A fun python project that automatically generates quotes and actions from Netflix’s Tiger King."
   ]
  },
  {
   "cell_type": "markdown",
   "metadata": {},
   "source": [
    "### Importing Required Packages"
   ]
  },
  {
   "cell_type": "code",
   "execution_count": 1,
   "metadata": {},
   "outputs": [],
   "source": [
    "import pandas as pd\n",
    "import markovify\n",
    "import random"
   ]
  },
  {
   "cell_type": "markdown",
   "metadata": {},
   "source": [
    "### Loading and Looking at the Data"
   ]
  },
  {
   "cell_type": "code",
   "execution_count": 2,
   "metadata": {},
   "outputs": [],
   "source": [
    "# Read in the subtitles dataframe\n",
    "subtitles_df = pd.read_csv('speaker_dataframe_GA_FINAL.csv')\n",
    "\n",
    "# Read in the actions dataframe\n",
    "actions_df = pd.read_csv('NFLX_dataframe_ACTIONS.csv')"
   ]
  },
  {
   "cell_type": "code",
   "execution_count": 3,
   "metadata": {
    "scrolled": true
   },
   "outputs": [
    {
     "data": {
      "text/html": [
       "<div>\n",
       "<style scoped>\n",
       "    .dataframe tbody tr th:only-of-type {\n",
       "        vertical-align: middle;\n",
       "    }\n",
       "\n",
       "    .dataframe tbody tr th {\n",
       "        vertical-align: top;\n",
       "    }\n",
       "\n",
       "    .dataframe thead th {\n",
       "        text-align: right;\n",
       "    }\n",
       "</style>\n",
       "<table border=\"1\" class=\"dataframe\">\n",
       "  <thead>\n",
       "    <tr style=\"text-align: right;\">\n",
       "      <th></th>\n",
       "      <th>begin</th>\n",
       "      <th>end</th>\n",
       "      <th>quote</th>\n",
       "      <th>episode</th>\n",
       "      <th>mode_spkr</th>\n",
       "      <th>fin_spkr</th>\n",
       "    </tr>\n",
       "  </thead>\n",
       "  <tbody>\n",
       "    <tr>\n",
       "      <th>0</th>\n",
       "      <td>0.000000</td>\n",
       "      <td>1.459792</td>\n",
       "      <td>Where do you want to start?</td>\n",
       "      <td>1</td>\n",
       "      <td>spk_0</td>\n",
       "      <td>Rick Kirkham</td>\n",
       "    </tr>\n",
       "    <tr>\n",
       "      <th>1</th>\n",
       "      <td>2.002000</td>\n",
       "      <td>4.045708</td>\n",
       "      <td>I guess at the beginning somewhere.</td>\n",
       "      <td>1</td>\n",
       "      <td>spk_0</td>\n",
       "      <td>Rick Kirkham</td>\n",
       "    </tr>\n",
       "    <tr>\n",
       "      <th>2</th>\n",
       "      <td>4.504500</td>\n",
       "      <td>5.839167</td>\n",
       "      <td>It was a crazy beginning.</td>\n",
       "      <td>1</td>\n",
       "      <td>spk_0</td>\n",
       "      <td>Rick Kirkham</td>\n",
       "    </tr>\n",
       "    <tr>\n",
       "      <th>3</th>\n",
       "      <td>7.549208</td>\n",
       "      <td>8.383375</td>\n",
       "      <td>Mmm.</td>\n",
       "      <td>1</td>\n",
       "      <td>spk_0</td>\n",
       "      <td>Rick Kirkham</td>\n",
       "    </tr>\n",
       "    <tr>\n",
       "      <th>4</th>\n",
       "      <td>10.510500</td>\n",
       "      <td>13.179833</td>\n",
       "      <td>Crazy.</td>\n",
       "      <td>1</td>\n",
       "      <td>spk_2</td>\n",
       "      <td>Rick Kirkham</td>\n",
       "    </tr>\n",
       "  </tbody>\n",
       "</table>\n",
       "</div>"
      ],
      "text/plain": [
       "       begin        end                                quote  episode  \\\n",
       "0   0.000000   1.459792          Where do you want to start?        1   \n",
       "1   2.002000   4.045708  I guess at the beginning somewhere.        1   \n",
       "2   4.504500   5.839167            It was a crazy beginning.        1   \n",
       "3   7.549208   8.383375                                 Mmm.        1   \n",
       "4  10.510500  13.179833                               Crazy.        1   \n",
       "\n",
       "  mode_spkr      fin_spkr  \n",
       "0     spk_0  Rick Kirkham  \n",
       "1     spk_0  Rick Kirkham  \n",
       "2     spk_0  Rick Kirkham  \n",
       "3     spk_0  Rick Kirkham  \n",
       "4     spk_2  Rick Kirkham  "
      ]
     },
     "execution_count": 3,
     "metadata": {},
     "output_type": "execute_result"
    }
   ],
   "source": [
    "# Look at the beginning of the subs df\n",
    "subtitles_df.head()"
   ]
  },
  {
   "cell_type": "code",
   "execution_count": 4,
   "metadata": {},
   "outputs": [
    {
     "data": {
      "text/html": [
       "<div>\n",
       "<style scoped>\n",
       "    .dataframe tbody tr th:only-of-type {\n",
       "        vertical-align: middle;\n",
       "    }\n",
       "\n",
       "    .dataframe tbody tr th {\n",
       "        vertical-align: top;\n",
       "    }\n",
       "\n",
       "    .dataframe thead th {\n",
       "        text-align: right;\n",
       "    }\n",
       "</style>\n",
       "<table border=\"1\" class=\"dataframe\">\n",
       "  <thead>\n",
       "    <tr style=\"text-align: right;\">\n",
       "      <th></th>\n",
       "      <th>span</th>\n",
       "      <th>action</th>\n",
       "    </tr>\n",
       "  </thead>\n",
       "  <tbody>\n",
       "    <tr>\n",
       "      <th>0</th>\n",
       "      <td>-[tiger roaring]</td>\n",
       "      <td>tiger roaring</td>\n",
       "    </tr>\n",
       "    <tr>\n",
       "      <th>1</th>\n",
       "      <td>-[lions growling]</td>\n",
       "      <td>lions growling</td>\n",
       "    </tr>\n",
       "    <tr>\n",
       "      <th>2</th>\n",
       "      <td>-[roars]</td>\n",
       "      <td>roars</td>\n",
       "    </tr>\n",
       "    <tr>\n",
       "      <th>3</th>\n",
       "      <td>-[snarls]</td>\n",
       "      <td>snarls</td>\n",
       "    </tr>\n",
       "    <tr>\n",
       "      <th>4</th>\n",
       "      <td>-[man gasps, grunts]</td>\n",
       "      <td>man gasps, grunts</td>\n",
       "    </tr>\n",
       "  </tbody>\n",
       "</table>\n",
       "</div>"
      ],
      "text/plain": [
       "                   span             action\n",
       "0      -[tiger roaring]      tiger roaring\n",
       "1     -[lions growling]     lions growling\n",
       "2              -[roars]              roars\n",
       "3             -[snarls]             snarls\n",
       "4  -[man gasps, grunts]  man gasps, grunts"
      ]
     },
     "execution_count": 4,
     "metadata": {},
     "output_type": "execute_result"
    }
   ],
   "source": [
    "# Look at the beginning of the actions df\n",
    "actions_df.head()"
   ]
  },
  {
   "cell_type": "markdown",
   "metadata": {},
   "source": [
    "### Making Lists to Feed into Markovify"
   ]
  },
  {
   "cell_type": "code",
   "execution_count": 5,
   "metadata": {},
   "outputs": [],
   "source": [
    "# Create a list from all of the actions in the dataframe\n",
    "actions_list = actions_df['action'].unique().tolist()"
   ]
  },
  {
   "cell_type": "code",
   "execution_count": 6,
   "metadata": {},
   "outputs": [],
   "source": [
    "# List of all speakers in the speaker dataframe\n",
    "potential_speakers = ['Allen Glover', 'Amanda Green', 'Anne McQueen', 'Barbara Fisher',\n",
    "                     'Brittany Peet', 'Bruce David', 'Carole Baskin',\n",
    "                     'Chealsi Putman', 'Cheryl Maldonado', 'Dale Lively',\n",
    "                     'Debra Sandlin', 'Dennis Hill', 'Dianna Mazak', 'Dillon Passage', 'Doc Antle',\n",
    "                     'Don Lewis', 'Eric Goode', 'Erik Cowie', 'Gale Rathbone',\n",
    "                     'Gladys Lewis Cross', 'Howard Baskin', 'JP Wilson',\n",
    "                     'James Garretson', 'Jamie Murdock', 'Jeff Johnson', 'Jeff Lowe', 'Joe Exotic',\n",
    "                     'John Finlay', 'John Marsicano', 'John Reinke', 'Joseph Fritz',\n",
    "                     'Joshua Dial', 'Kelci Saffery', 'Kenny Farr', 'Kody Antle', 'Larry Rhodes',\n",
    "                     'Lauren Lowe', 'Lynda Sanchez', 'Marc Thompson', 'Maria Tabraue',\n",
    "                     'Mario Tabraue', 'Mark McCarthy', 'Marsha David', 'Moksha Bybee',\n",
    "                     'Rick Kirkham', 'Robert Johnson',\n",
    "                     'Susan Bass', 'Sylvia Corkill', 'Tim Stark',\n",
    "                     'Travis Maldonado', 'Vernon Yates', 'Wendell Williams']\n",
    "\n",
    "# List of speakers that produce value in the randomized quoting\n",
    "random_speakers = ['Allen Glover', 'Carole Baskin', 'Doc Antle',\n",
    "                     'Eric Goode', 'Erik Cowie', 'Howard Baskin',\n",
    "                     'James Garretson', 'Jeff Lowe', 'Joe Exotic',\n",
    "                     'John Finlay', 'John Reinke', 'Kelci Saffery', 'Rick Kirkham']"
   ]
  },
  {
   "cell_type": "markdown",
   "metadata": {},
   "source": [
    "### Testing Markovify with just one character's output\n",
    "\n",
    "Make a dataframe with just Joe's quotes for testing purposes"
   ]
  },
  {
   "cell_type": "code",
   "execution_count": 7,
   "metadata": {},
   "outputs": [],
   "source": [
    "# Set the speaker, number of sentences, and if you want long or short sentences in TigerKingSentence function\n",
    "set_speaker = 'Joe Exotic'\n",
    "num_sentences = 5\n",
    "set_length = 'Short'"
   ]
  },
  {
   "cell_type": "code",
   "execution_count": 8,
   "metadata": {},
   "outputs": [],
   "source": [
    "# A function that takes one speaker and produces a specified number of sentences of either \"short\" or \"long\" length\n",
    "def TigerKingSentence(speaker_choice, n_sentences, s_length):\n",
    "\n",
    "    # Copy just the columns with the speaker we want\n",
    "    speaker_df = subtitles_df[subtitles_df['fin_spkr'] == speaker_choice].copy()\n",
    "\n",
    "    # Make a list of all of the quotes from the speaker specific dataframe\n",
    "    mkv_quote_list = speaker_df['quote'].tolist()\n",
    "\n",
    "    # Join the list together to get one long string\n",
    "    quote_string = \" \"\n",
    "    quote_string = quote_string.join(mkv_quote_list)\n",
    "\n",
    "    # Build the model.\n",
    "    text_model = markovify.Text(quote_string)\n",
    "    \n",
    "    if s_length == 'Long':\n",
    "        # Print five randomly-generated sentences\n",
    "        for i in range(n_sentences):\n",
    "            print(speaker_choice, \": \", text_model.make_sentence())\n",
    "            \n",
    "            # Randomly print an action\n",
    "            print(\"[\", random.choice(actions_list), \"]\")\n",
    "            \n",
    "        \n",
    "    if s_length == 'Short':\n",
    "        # Print three randomly-generated sentences of no more than 280 characters\n",
    "        for i in range(n_sentences):\n",
    "            print(speaker_choice, \": \", text_model.make_short_sentence(280))\n",
    "            \n",
    "            # Randomly print an action\n",
    "            print(\"[\", random.choice(actions_list), \"]\")"
   ]
  },
  {
   "cell_type": "code",
   "execution_count": 9,
   "metadata": {
    "scrolled": true
   },
   "outputs": [
    {
     "name": "stdout",
     "output_type": "stream",
     "text": [
      "Eric Goode :  Oh, I like it.\n",
      "[ woman laughs ]\n",
      "Eric Goode :  What is a penis.\n",
      "[ Joe muttering ]\n",
      "Eric Goode :  You're testifying mostly about the fallout of Joe's case?\n",
      "[ Joe, crowd laughing ]\n",
      "Eric Goode :  So how involved was Jeff Lowe got involved.\n",
      "[ panther yowling ]\n",
      "Eric Goode :  I've been trying to call and they do have lives and they You know, we wanted All right.\n",
      "[ men laughing, grunting ]\n"
     ]
    }
   ],
   "source": [
    "TigerKingSentence(set_speaker, num_sentences, set_length)"
   ]
  },
  {
   "cell_type": "markdown",
   "metadata": {},
   "source": [
    "### Testing Markovify with All Chosen Speakers"
   ]
  },
  {
   "cell_type": "code",
   "execution_count": 10,
   "metadata": {},
   "outputs": [],
   "source": [
    "# A function that uses random speakers and creates a specified number of\n",
    "# sentences that are either \"short\" or \"long\"\n",
    "def TigerKingMultSpeakers(n_sentences, s_length):\n",
    "    \n",
    "    for num in range(n_sentences):    \n",
    "        # Choose our speaker at random\n",
    "        speaker_choice = random.choice(random_speakers)\n",
    "\n",
    "        # Copy just the columns with the speaker we want\n",
    "        speaker_df = subtitles_df[subtitles_df['fin_spkr'] == speaker_choice].copy()\n",
    "\n",
    "        # Make a list of all of the quotes from the speaker specific dataframe\n",
    "        mkv_quote_list = speaker_df['quote'].tolist()\n",
    "\n",
    "        # Join the list together to get one long string\n",
    "        quote_string = \" \"\n",
    "        quote_string = quote_string.join(mkv_quote_list)\n",
    "\n",
    "        # Build the model.\n",
    "        text_model = markovify.Text(quote_string)\n",
    "\n",
    "        if s_length == 'Long':\n",
    "            # Print randomly-generated sentence\n",
    "            print(speaker_choice, \": \", text_model.make_sentence())\n",
    "\n",
    "            # Randomly print an action\n",
    "            print(\"[\", random.choice(actions_list), \"]\")\n",
    "\n",
    "\n",
    "        if s_length == 'Short':\n",
    "            # Print randomly-generated sentence of no more than 280 characters\n",
    "            print(speaker_choice, \": \", text_model.make_short_sentence(280))\n",
    "\n",
    "            # Randomly print an action\n",
    "            print(\"[\", random.choice(actions_list), \"]\")"
   ]
  },
  {
   "cell_type": "code",
   "execution_count": 11,
   "metadata": {},
   "outputs": [
    {
     "name": "stdout",
     "output_type": "stream",
     "text": [
      "Rick Kirkham :  It would have Carole written on a title of Joe Exotic, Tiger King for the animals declined...\n",
      "[ engine roaring ]\n",
      "John Finlay :  I was going to be sued at the time, it sounded like a good idea.\n",
      "[ monkey chittering ]\n",
      "Carole Baskin :  What really sets apart Big Cat Rescue from a zoo is that if someone were to kill me, I just I remember Don pulls around, and he came from a facility in Ohio...\n",
      "[ car horn honks ]\n",
      "John Finlay :  I was going on.\n",
      "[ elephant brays ]\n",
      "Carole Baskin :  To get a fair settlement and they brought their families.\n",
      "[ tiger cub murmuring ]\n"
     ]
    }
   ],
   "source": [
    "TigerKingMultSpeakers(num_sentences, set_length)"
   ]
  }
 ],
 "metadata": {
  "kernelspec": {
   "display_name": "Python 3",
   "language": "python",
   "name": "python3"
  },
  "language_info": {
   "codemirror_mode": {
    "name": "ipython",
    "version": 3
   },
   "file_extension": ".py",
   "mimetype": "text/x-python",
   "name": "python",
   "nbconvert_exporter": "python",
   "pygments_lexer": "ipython3",
   "version": "3.6.2"
  }
 },
 "nbformat": 4,
 "nbformat_minor": 2
}
